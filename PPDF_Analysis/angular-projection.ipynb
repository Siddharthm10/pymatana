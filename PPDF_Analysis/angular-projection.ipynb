{
 "cells": [
  {
   "cell_type": "code",
   "execution_count": 1,
   "metadata": {},
   "outputs": [],
   "source": [
    "import yaml\n",
    "import numpy as np\n",
    "import math\n",
    "import matplotlib.pyplot as plt\n",
    "from matplotlib.patches import Rectangle\n",
    "from matplotlib.collections import PatchCollection"
   ]
  },
  {
   "cell_type": "code",
   "execution_count": 5,
   "metadata": {},
   "outputs": [
    {
     "name": "stdout",
     "output_type": "stream",
     "text": [
      "(2500,)\n"
     ]
    }
   ],
   "source": [
    "configFileName = \"/home/fanghan/Work/SPEBT/Develop/github-pyMatcal/configs/config.yml\"\n",
    "with open(configFileName, \"r\") as stream:\n",
    "    try:\n",
    "        yamlConfig = yaml.safe_load(stream)\n",
    "    except yaml.YAMLError as err:\n",
    "        print(err)\n",
    "\n",
    "# Read in the geometry\n",
    "try:\n",
    "    systemGeom = np.asarray(yamlConfig[\"detector geometry\"])\n",
    "    sensGeomIds = np.asarray(yamlConfig[\"detector\"][\"sensitive geometry indices\"])\n",
    "    detSubs = np.asarray(yamlConfig[\"detector\"][\"crystal n subdivision xyz\"])\n",
    "    # Calculate Image space N subdivision and size.\n",
    "    imageDims = np.asarray(yamlConfig[\"image\"][\"dimension xyz\"])\n",
    "    imageVxpms = np.asarray(yamlConfig[\"image\"][\"voxel per mm xyz\"])\n",
    "    imageSubs = np.asarray(yamlConfig[\"image\"][\"subdivision xyz\"])\n",
    "    angle_rad = yamlConfig[\"image\"][\"detector rotation\"]\n",
    "    x_shift = yamlConfig[\"image\"][\"detector x-shift\"]\n",
    "except yaml.YAMLError as err:\n",
    "    print(\"Error reading the configurations!\", err)\n",
    "    exit(1)\n",
    "\n",
    "sensGeom = []\n",
    "for index in sensGeomIds:\n",
    "    sensGeom.append(systemGeom[np.nonzero(systemGeom[:, 6] == index)].flatten())\n",
    "sensGeom = np.array(sensGeom)\n",
    "\n",
    "\n",
    "yMin = np.amin(systemGeom[:, 2])\n",
    "yMax = np.amax(systemGeom[:, 3])\n",
    "xMin = np.amin(systemGeom[:, 0])\n",
    "xMax = np.amax(systemGeom[:, 1])\n",
    "detectorDim_x = xMax - xMin\n",
    "detectorDim_y = yMax - yMin\n",
    "trans_x = imageDims[0] * 0.5\n",
    "trans_y = imageDims[1] * 0.5\n",
    "y_shift = 0.5 * detectorDim_y\n",
    "imageNxyz = imageDims * imageVxpms\n",
    "mmPerVoxel = 1.0 / imageVxpms\n",
    "\n",
    "npzFname=\"../data/subdiv-6x6x6.npz\"\n",
    "with np.load(npzFname) as data:\n",
    "    sysmat = data[\"sysmat\"]\n",
    "    # print(sysmat.shape)\n",
    "\n",
    "# with np.load(\"test.npz\") as data:\n",
    "#     sysmat = data[\"sysmat\"]\n",
    "#     print(sysmat.shape)\n",
    "imageNxyz = imageDims * imageVxpms\n",
    "nSensDets = sensGeom.shape[0]\n",
    "# print(imageNxyz,nSensDets)\n",
    "matxymap = sysmat.reshape(int(imageNxyz[0]), int(imageNxyz[1]), nSensDets).T"
   ]
  },
  {
   "cell_type": "code",
   "execution_count": 7,
   "metadata": {},
   "outputs": [
    {
     "name": "stdout",
     "output_type": "stream",
     "text": [
      "(1, 50, 50)\n"
     ]
    }
   ],
   "source": [
    "print(matxymap.shape)"
   ]
  },
  {
   "cell_type": "code",
   "execution_count": 14,
   "metadata": {},
   "outputs": [
    {
     "data": {
      "image/png": "[encoded data removed]",
      "text/plain": [
       "<Figure size 432x720 with 1 Axes>"
      ]
     },
     "metadata": {
      "needs_background": "light"
     },
     "output_type": "display_data"
    }
   ],
   "source": [
    "geoms=systemGeom\n",
    "detectors = geoms\n",
    "# print(target_indices)\n",
    "targets = []\n",
    "for index in sensGeomIds:\n",
    "    targets.append(detectors[np.nonzero(detectors[:, 6] == index)].flatten())\n",
    "targets = np.array(targets)\n",
    "# print(targets)\n",
    "det_xy = np.array(\n",
    "    [detectors[:, 0] + x_shift + trans_x, detectors[:, 2] - y_shift + trans_y]\n",
    ").T\n",
    "det_inc_xy = np.array(\n",
    "    [(detectors[:, 1] - detectors[:, 0]), (detectors[:, 3] - detectors[:, 2])]\n",
    ").T\n",
    "\n",
    "targets = sensGeom\n",
    "\n",
    "targets_xy = np.array(\n",
    "    [targets[:, 0] + x_shift + trans_x, targets[:, 2] - y_shift + trans_y]\n",
    ").T\n",
    "targets_inc_xy = np.array(\n",
    "    [targets[:, 1] - targets[:, 0], targets[:, 3] - targets[:, 2]]\n",
    ").T\n",
    "\n",
    "target_rect_list = [\n",
    "    Rectangle(xy, inc_xy[0], inc_xy[1])\n",
    "    for xy, inc_xy in zip(targets_xy, targets_inc_xy)\n",
    "]\n",
    "rect_list = [\n",
    "    Rectangle(xy, inc_xy[0], inc_xy[1]) for xy, inc_xy in zip(det_xy, det_inc_xy)\n",
    "]\n",
    "pc = PatchCollection(rect_list, ec=\"black\")\n",
    "fig, ax = plt.subplots(figsize=(6, 10))\n",
    "im_extent = (0, imageNxyz[0], 0, imageNxyz[1])\n",
    "im=ax.imshow(matxymap[0],origin=\"lower\", extent=im_extent, aspect=\"equal\")\n",
    "pc = PatchCollection(rect_list, ec=\"black\")\n",
    "targets_pc = PatchCollection(target_rect_list, ec=\"black\", fc=\"orange\")\n",
    "ax.add_collection(pc)\n",
    "ax.add_collection(targets_pc)\n",
    "# ax.set_xticks(np.arange(1, 14, 3))\n",
    "# ax.set_xticklabels(np.arange(1, 14, 3), size=20)\n",
    "# ax.set_yticks(np.arange(0, 25, 3))\n",
    "# ax.set_yticklabels(np.arange(0, 25, 3), size=20)\n",
    "ax.set_xlabel(\"x (mm)\", size=20)\n",
    "ax.set_ylabel(\"y (mm)\", size=20)\n",
    "ax.plot(1, 1)\n",
    "# ax.grid()\n",
    "ax.set(aspect=\"equal\")\n",
    "plt.tight_layout()"
   ]
  },
  {
   "cell_type": "code",
   "execution_count": 32,
   "metadata": {},
   "outputs": [
    {
     "data": {
      "image/png": "[encoded data removed]",
      "text/plain": [
       "<Figure size 1152x720 with 1 Axes>"
      ]
     },
     "metadata": {
      "needs_background": "light"
     },
     "output_type": "display_data"
    }
   ],
   "source": [
    "target_c = np.array([\n",
    "    (targets[0, 0] + targets[0, 1]) * 0.5 + x_shift + trans_x,\n",
    "    (targets[0, 2] + targets[0, 3]) * 0.5 - y_shift + trans_y,\n",
    "])\n",
    "fig, ax = plt.subplots(figsize=(16, 10))\n",
    "im_extent = (0, imageNxyz[0], 0, imageNxyz[1])\n",
    "im=ax.imshow(matxymap[0],origin=\"lower\", extent=im_extent, aspect=\"equal\")\n",
    "pc = PatchCollection(rect_list, ec=\"black\")\n",
    "targets_pc = PatchCollection(target_rect_list, ec=\"black\", fc=\"orange\")\n",
    "ax.add_collection(pc)\n",
    "ax.add_collection(targets_pc)\n",
    "# ax.set_xticks(np.arange(1, 14, 3))\n",
    "# ax.set_xticklabels(np.arange(1, 14, 3), size=20)\n",
    "# ax.set_yticks(np.arange(0, 25, 3))\n",
    "# ax.set_yticklabels(np.arange(0, 25, 3), size=20)\n",
    "ax.set_xlabel(\"x (mm)\", size=20)\n",
    "ax.set_ylabel(\"y (mm)\", size=20)\n",
    "ax.scatter(target_c[0], target_c[1])\n",
    "ax.plot([0,target_c[0]],[23.5,target_c[1]],color='black')\n",
    "# ax.grid()\n",
    "ax.set(aspect=\"equal\")\n",
    "plt.tight_layout()\n",
    "plt.savefig(\"ppdf.png\")"
   ]
  },
  {
   "cell_type": "code",
   "execution_count": 36,
   "metadata": {},
   "outputs": [
    {
     "name": "stdout",
     "output_type": "stream",
     "text": [
      "2.670353755551324\n",
      "0.2827433388230814\n"
     ]
    },
    {
     "ename": "IndexError",
     "evalue": "only integers, slices (`:`), ellipsis (`...`), numpy.newaxis (`None`) and integer or boolean arrays are valid indices",
     "output_type": "error",
     "traceback": [
      "\u001b[0;31m---------------------------------------------------------------------------\u001b[0m",
      "\u001b[0;31mIndexError\u001b[0m                                Traceback (most recent call last)",
      "\u001b[0;32m/tmp/ipykernel_54852/967553987.py\u001b[0m in \u001b[0;36m<module>\u001b[0;34m\u001b[0m\n\u001b[1;32m     37\u001b[0m         \u001b[0;32mif\u001b[0m \u001b[0mpre_x_idx\u001b[0m \u001b[0;34m!=\u001b[0m \u001b[0mx_idx\u001b[0m \u001b[0;32mor\u001b[0m \u001b[0mpre_y_idx\u001b[0m \u001b[0;34m!=\u001b[0m \u001b[0my_idx\u001b[0m\u001b[0;34m:\u001b[0m\u001b[0;34m\u001b[0m\u001b[0;34m\u001b[0m\u001b[0m\n\u001b[1;32m     38\u001b[0m         \u001b[0;31m# print(x_idx,y_idx)\u001b[0m\u001b[0;34m\u001b[0m\u001b[0;34m\u001b[0m\u001b[0m\n\u001b[0;32m---> 39\u001b[0;31m             \u001b[0mhist_arr\u001b[0m\u001b[0;34m.\u001b[0m\u001b[0mappend\u001b[0m\u001b[0;34m(\u001b[0m\u001b[0mmatxymap\u001b[0m\u001b[0;34m[\u001b[0m\u001b[0;36m0\u001b[0m\u001b[0;34m,\u001b[0m\u001b[0mx_idx\u001b[0m\u001b[0;34m,\u001b[0m\u001b[0my_idx\u001b[0m\u001b[0;34m]\u001b[0m\u001b[0;34m)\u001b[0m\u001b[0;34m\u001b[0m\u001b[0;34m\u001b[0m\u001b[0m\n\u001b[0m\u001b[1;32m     40\u001b[0m             \u001b[0mthetas\u001b[0m\u001b[0;34m.\u001b[0m\u001b[0mappend\u001b[0m\u001b[0;34m(\u001b[0m\u001b[0mtheta\u001b[0m\u001b[0;34m)\u001b[0m\u001b[0;34m\u001b[0m\u001b[0;34m\u001b[0m\u001b[0m\n\u001b[1;32m     41\u001b[0m             \u001b[0max\u001b[0m\u001b[0;34m.\u001b[0m\u001b[0madd_patch\u001b[0m\u001b[0;34m(\u001b[0m\u001b[0mRectangle\u001b[0m\u001b[0;34m(\u001b[0m\u001b[0;34m(\u001b[0m\u001b[0mx_idx\u001b[0m\u001b[0;34m-\u001b[0m\u001b[0;36m0.5\u001b[0m\u001b[0;34m,\u001b[0m \u001b[0my_idx\u001b[0m\u001b[0;34m-\u001b[0m\u001b[0;36m0.5\u001b[0m\u001b[0;34m)\u001b[0m\u001b[0;34m,\u001b[0m \u001b[0;36m1.0\u001b[0m\u001b[0;34m,\u001b[0m \u001b[0;36m1.0\u001b[0m\u001b[0;34m,\u001b[0m \u001b[0mfacecolor\u001b[0m\u001b[0;34m=\u001b[0m\u001b[0;34m'yellow'\u001b[0m\u001b[0;34m,\u001b[0m \u001b[0malpha\u001b[0m\u001b[0;34m=\u001b[0m\u001b[0;36m0.1\u001b[0m\u001b[0;34m)\u001b[0m\u001b[0;34m)\u001b[0m\u001b[0;34m\u001b[0m\u001b[0;34m\u001b[0m\u001b[0m\n",
      "\u001b[0;31mIndexError\u001b[0m: only integers, slices (`:`), ellipsis (`...`), numpy.newaxis (`None`) and integer or boolean arrays are valid indices"
     ]
    },
    {
     "data": {
      "image/png": "[encoded data removed]",
      "text/plain": [
       "<Figure size 1152x720 with 1 Axes>"
      ]
     },
     "metadata": {
      "needs_background": "light"
     },
     "output_type": "display_data"
    }
   ],
   "source": [
    "fig, ax = plt.subplots(figsize=(16, 10))\n",
    "im_extent = (0, imageNxyz[0], 0, imageNxyz[1])\n",
    "im=ax.imshow(matxymap[0],origin=\"lower\", extent=im_extent, aspect=\"equal\")\n",
    "pc = PatchCollection(rect_list, ec=\"black\")\n",
    "targets_pc = PatchCollection(target_rect_list, ec=\"black\", fc=\"orange\")\n",
    "ax.add_collection(pc)\n",
    "ax.add_collection(targets_pc)\n",
    "# ax.set_xticks(np.arange(1, 14, 3))\n",
    "# ax.set_xticklabels(np.arange(1, 14, 3), size=20)\n",
    "# ax.set_yticks(np.arange(0, 25, 3))\n",
    "# ax.set_yticklabels(np.arange(0, 25, 3), size=20)\n",
    "ax.set_xlabel(\"x (mm)\", size=20)\n",
    "ax.set_ylabel(\"y (mm)\", size=20)\n",
    "ax.scatter(target_c[0], target_c[1])\n",
    "ax.plot([0,target_c[0]],[23.5,target_c[1]],color='black')\n",
    "# ax.grid()\n",
    "ax.set(aspect=\"equal\")\n",
    "plt.tight_layout()\n",
    "plt.savefig(\"ppdf.png\")\n",
    "n_angles = 1000\n",
    "hist_arr = []\n",
    "pre_x_idx = 0\n",
    "pre_y_idx = 0\n",
    "thetas = []\n",
    "start_angle = 2.4\n",
    "end_angle = 3.5\n",
    "print(np.pi*0.85)\n",
    "print(np.pi*0.09)\n",
    "radius_det=np.linalg.norm(target_c-[25,25])\n",
    "for theta in np.arange(start_angle,end_angle,np.pi/n_angles):\n",
    "    y_cord = radius_det*np.sin(theta) + target_c[1]\n",
    "    x_cord = radius_det*np.cos(theta) + target_c[0]\n",
    "    x_idx = int(np.floor(x_cord))\n",
    "    y_idx = int(np.floor(y_cord))\n",
    "          \n",
    "    if x_idx > 0 and x_idx < 180 and y_idx > 0 and y_idx < 180:\n",
    "        if pre_x_idx != x_idx or pre_y_idx != y_idx:\n",
    "        # print(x_idx,y_idx)\n",
    "            hist_arr.append(matxymap[0,x_idx,y_idx])\n",
    "            thetas.append(theta)\n",
    "            ax.add_patch(Rectangle((x_idx-0.5, y_idx-0.5), 1.0, 1.0, facecolor='yellow', alpha=0.1))\n",
    "    pre_x_idx = x_idx\n",
    "    pre_y_idx = y_idx\n",
    "signal=np.asarray(hist_arr)\n",
    "thetas=np.asarray(thetas)"
   ]
  },
  {
   "cell_type": "code",
   "execution_count": null,
   "metadata": {},
   "outputs": [],
   "source": []
  }
 ],
 "metadata": {
  "kernelspec": {
   "display_name": "Python 3",
   "language": "python",
   "name": "python3"
  },
  "language_info": {
   "codemirror_mode": {
    "name": "ipython",
    "version": 3
   },
   "file_extension": ".py",
   "mimetype": "text/x-python",
   "name": "python",
   "nbconvert_exporter": "python",
   "pygments_lexer": "ipython3",
   "version": "3.10.12"
  }
 },
 "nbformat": 4,
 "nbformat_minor": 2
}
