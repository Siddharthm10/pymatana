{
 "cells": [
  {
   "cell_type": "code",
   "execution_count": 1,
   "id": "72d44574",
   "metadata": {},
   "outputs": [],
   "source": [
    "import torch\n",
    "import h5py\n",
    "import os\n",
    "import pandas as pd"
   ]
  },
  {
   "cell_type": "code",
   "execution_count": 2,
   "id": "0561bab1",
   "metadata": {},
   "outputs": [],
   "source": [
    "beams_properties_hdf5_filename = (\n",
    "    \"beams_properties_77faff53af5863ca146878c7c496c75e.hdf5\"\n",
    ")\n",
    "input_dir = \"output\"\n",
    "with h5py.File(\n",
    "    os.path.join(input_dir, beams_properties_hdf5_filename), \"r\"\n",
    ") as f:\n",
    "    # print(f.keys())\n",
    "    beams_properties_tensor = torch.from_numpy(f[\"beam_properties\"][:])  # type: ignore\n",
    "    beam_properties_header = f[\"beam_properties\"].attrs[\"Header\"]  # type: ignore\n",
    "    "
   ]
  },
  {
   "cell_type": "code",
   "execution_count": 3,
   "id": "628118af",
   "metadata": {},
   "outputs": [],
   "source": [
    "# Get the angular bin boundaries\n",
    "angular_bin_boundaries = torch.arange(361) / 180 * torch.pi\n"
   ]
  },
  {
   "cell_type": "code",
   "execution_count": null,
   "id": "465e7f96",
   "metadata": {},
   "outputs": [
    {
     "name": "stderr",
     "output_type": "stream",
     "text": [
      "/tmp/ipykernel_53293/277874979.py:17: UserWarning: torch.searchsorted(): input value tensor is non-contiguous, this will lower the performance due to extra data copy when converting non-contiguous tensor to contiguous, please use contiguous input value tensor if possible. This message will only appear once per program. (Triggered internally at /pytorch/aten/src/ATen/native/BucketizationUtils.h:32.)\n",
      "  digitized_angles = torch.bucketize(\n"
     ]
    }
   ],
   "source": [
    "# load beams masks\n",
    "# Define the layout index to load\n",
    "layout_idx = 0\n",
    "\n",
    "# load the beams masks for the layout\n",
    "beams_masks_hdf5_filename = (\n",
    "    f\"beams_masks_77faff53af5863ca146878c7c496c75e_{layout_idx:03d}.hdf5\"\n",
    ")\n",
    "input_dir = \"output\"\n",
    "with h5py.File(\n",
    "    os.path.join(input_dir, beams_masks_hdf5_filename), \"r\"\n",
    ") as beams_masks_hdf5:\n",
    "    beams_masks = torch.from_numpy(beams_masks_hdf5[\"beam_mask\"][:]) # type: ignore\n",
    "layout_beams_properties = beams_properties_tensor[beams_properties_tensor[:, 0] == layout_idx].clone()\n",
    "layout_beams_properties[:,2] +=1\n",
    "# Digitize the angles\n",
    "digitized_angles = torch.bucketize(\n",
    "    layout_beams_properties[:, 3], angular_bin_boundaries, right=True\n",
    ")\n",
    "layout_beams_properties[:, 3] = digitized_angles\n",
    "\n",
    "columns_name: list = beam_properties_header.tolist()  # type: ignore\n",
    "columns_name[3] = \"angle_bin\"\n",
    "layout_beams_property_df = pd.DataFrame(\n",
    "\t\tlayout_beams_properties.numpy(),\n",
    "\t\tcolumns=columns_name,  # type: ignore\n",
    ")"
   ]
  },
  {
   "cell_type": "code",
   "execution_count": null,
   "id": "7fec0cea",
   "metadata": {},
   "outputs": [
    {
     "name": "stdout",
     "output_type": "stream",
     "text": [
      "torch.Size([3003, 11])\n"
     ]
    }
   ],
   "source": [
    "# filter out the beams with FWHM > 4\n",
    "layout_beams_property_df_filtered_by_fwhm = layout_beams_property_df[\n",
    "\t\tlayout_beams_property_df[\"FWHM (mm)\"] < 4\n",
    "]\n",
    "\n",
    "layout_beams_property_tensor_filtered_by_fwhm = layout_beams_properties[layout_beams_properties[:,4] < 4]\n"
   ]
  },
  {
   "cell_type": "code",
   "execution_count": 12,
   "id": "32c3d077",
   "metadata": {},
   "outputs": [
    {
     "data": {
      "text/plain": [
       "tensor([0., 1., 2., 3., 4., 5., 6., 7., 8., 9.])"
      ]
     },
     "execution_count": 12,
     "metadata": {},
     "output_type": "execute_result"
    }
   ],
   "source": [
    "# For each detector unit, mask shape = (512*512,)\n",
    "# if we fix the detector unit id, beams_properties shape = (N, 11)\n",
    "# pixel_beam_property = layout_beams_property_tensor_filtered_by_fwhm[]\n",
    "detector_unit_id = 0\n",
    "detector_unit_beams_properties = layout_beams_properties[\n",
    "\t\tlayout_beams_properties[:, 1] == detector_unit_id\n",
    "].clone()\n",
    "detector_unit_beams_properties_df = pd.DataFrame(\n",
    "\t\tdetector_unit_beams_properties.numpy(),\n",
    "\t\tcolumns=columns_name,  # type: ignore\n",
    ")\n",
    "beams_masks[detector_unit_id].unique()"
   ]
  },
  {
   "cell_type": "code",
   "execution_count": 27,
   "id": "e235ed97",
   "metadata": {},
   "outputs": [
    {
     "name": "stdout",
     "output_type": "stream",
     "text": [
      "tensor([1., 2., 3., 4., 5., 6., 7., 8., 9.])\n"
     ]
    }
   ],
   "source": [
    "# For a single detector unit, each pixel acquire an angular bin increment or not based on the beams mask\n",
    "\n",
    "# for px_id in torch.arange(512*512):\n",
    "\t# get the mask for the pixel\n",
    "\t# pixel_beam_id = beams_masks[detector_unit_id][px_id]\n",
    "beams_mask_detector_unit = beams_masks[detector_unit_id].clone()\n",
    "beams_mask_detector_unit[beams_mask_detector_unit == 0] = torch.nan\n",
    "detector_unit_beams_properties = detector_unit_beams_properties[torch.argsort(detector_unit_beams_properties[:, 2])]\n",
    "\n",
    "# print(beams_ids_origin.shape)\n",
    "print(detector_unit_beams_properties[:,2])\n"
   ]
  },
  {
   "cell_type": "code",
   "execution_count": 17,
   "id": "02656712",
   "metadata": {},
   "outputs": [
    {
     "name": "stdout",
     "output_type": "stream",
     "text": [
      "torch.Size([4, 3])\n",
      "tensor([0, 2, 1])\n",
      "tensor([[1, 3, 2],\n",
      "        [1, 3, 2],\n",
      "        [1, 3, 2],\n",
      "        [3, 2, 1]])\n"
     ]
    }
   ],
   "source": [
    "a = torch.tensor([[1, 2, 3], [1, 2, 3], [1, 2, 3], [3, 1, 2]])\n",
    "print(a.shape)\n",
    "sort_idx = torch.argsort(a[3, :], descending=True)\n",
    "print(sort_idx)\n",
    "print(a[:,sort_idx])"
   ]
  },
  {
   "cell_type": "code",
   "execution_count": null,
   "id": "36ac0960",
   "metadata": {},
   "outputs": [],
   "source": []
  }
 ],
 "metadata": {
  "kernelspec": {
   "display_name": "torch-pyvista",
   "language": "python",
   "name": "python3"
  },
  "language_info": {
   "codemirror_mode": {
    "name": "ipython",
    "version": 3
   },
   "file_extension": ".py",
   "mimetype": "text/x-python",
   "name": "python",
   "nbconvert_exporter": "python",
   "pygments_lexer": "ipython3",
   "version": "3.13.0"
  }
 },
 "nbformat": 4,
 "nbformat_minor": 5
}
